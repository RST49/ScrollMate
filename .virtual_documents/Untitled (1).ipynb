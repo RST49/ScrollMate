import cv2
import mediapipe as mp
from pynput.keyboard import Controller,Key
import time


mpHands = mp.solutions.hands
hands = mpHands.Hands(
    static_image_mode=False,
    model_complexity=1,
    min_detection_confidence=0.7,
    min_tracking_confidence=0.7,
    max_num_hands=1
)


def main():
    cap = cv2.VideoCapture(0)
    draw = mp.solutions.drawing_utils
    keyboard = Controller()
    # Cooldown variables
    last_action_time = time.time()
    cooldown_duration = 0.5  # Cooldown time in seconds

    try:
        while cap.isOpened():
            ret, frame = cap.read()
            if not ret:
                break
            frame = cv2.flip(frame, 1)
            frameCol = cv2.cvtColor(frame, cv2.COLOR_BGR2RGB)
            processed = hands.process(frameCol)

            if processed.multi_hand_landmarks:
                hand_landmarks = processed.multi_hand_landmarks[0]
                draw.draw_landmarks(frame, hand_landmarks, mpHands.HAND_CONNECTIONS)

                def is_thumbs_up(hand_landmarks):
                    """Checks if the gesture is a thumbs-up."""
                    thumb_tip = hand_landmarks.landmark[4]
                    thumb_mcp = hand_landmarks.landmark[2]
                    return thumb_tip.y < thumb_mcp.y  # Thumb tip is above MCP (vertically)

                def is_thumbs_down(hand_landmarks):
                    """Checks if the gesture is a thumbs-down."""
                    thumb_tip = hand_landmarks.landmark[4]
                    thumb_mcp = hand_landmarks.landmark[2]
                    return thumb_tip.y > thumb_mcp.y  # Thumb tip is below MCP (vertically)

                # Perform action if cooldown period has passed
                current_time = time.time()
                if current_time - last_action_time > cooldown_duration:
                    if is_thumbs_up(hand_landmarks):
                        keyboard.press(Key.page_up)
                        keyboard.release(Key.page_up)
                        print("Thumbs Up Detected - Page Up")
                        last_action_time = current_time
                    elif is_thumbs_down(hand_landmarks):
                        keyboard.press(Key.page_down)
                        keyboard.release(Key.page_down)
                        print("Thumbs Down Detected - Page Down")
                        last_action_time = current_time

            cv2.imshow('Frame', frame)
            if cv2.waitKey(1) & 0xFF == ord('q'):
                break

    finally:
        cap.release()
        cv2.destroyAllWindows()
main()
